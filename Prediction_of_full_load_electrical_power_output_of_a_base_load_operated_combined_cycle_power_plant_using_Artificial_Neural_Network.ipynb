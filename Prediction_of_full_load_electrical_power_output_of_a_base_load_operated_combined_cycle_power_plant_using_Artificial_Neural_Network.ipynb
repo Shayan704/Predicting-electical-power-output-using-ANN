{
  "nbformat": 4,
  "nbformat_minor": 0,
  "metadata": {
    "colab": {
      "provenance": [],
      "include_colab_link": true
    },
    "kernelspec": {
      "name": "python3",
      "display_name": "Python 3"
    }
  },
  "cells": [
    {
      "cell_type": "markdown",
      "metadata": {
        "id": "view-in-github",
        "colab_type": "text"
      },
      "source": [
        "<a href=\"https://colab.research.google.com/github/Shayan704/Predicting-electical-power-output-using-ANN/blob/main/Prediction_of_full_load_electrical_power_output_of_a_base_load_operated_combined_cycle_power_plant_using_Artificial_Neural_Network.ipynb\" target=\"_parent\"><img src=\"https://colab.research.google.com/assets/colab-badge.svg\" alt=\"Open In Colab\"/></a>"
      ]
    },
    {
      "cell_type": "markdown",
      "metadata": {
        "id": "3cbb7fRy-eyr"
      },
      "source": [
        "# Artificial Neural Network"
      ]
    },
    {
      "cell_type": "markdown",
      "metadata": {
        "id": "8sNDnxE2-pwE"
      },
      "source": [
        "### Importing the libraries"
      ]
    },
    {
      "cell_type": "code",
      "source": [
        "import numpy as np\n",
        "import pandas as pd\n",
        "import tensorflow as tf"
      ],
      "metadata": {
        "id": "KrIaNCv4GHf9"
      },
      "execution_count": null,
      "outputs": []
    },
    {
      "cell_type": "code",
      "source": [
        "tf.__version__"
      ],
      "metadata": {
        "colab": {
          "base_uri": "https://localhost:8080/",
          "height": 35
        },
        "id": "oBjngpQlGN9G",
        "outputId": "cd304d62-1ce5-4b77-a1b6-2782f3cd65ef"
      },
      "execution_count": null,
      "outputs": [
        {
          "output_type": "execute_result",
          "data": {
            "text/plain": [
              "'2.15.0'"
            ],
            "application/vnd.google.colaboratory.intrinsic+json": {
              "type": "string"
            }
          },
          "metadata": {},
          "execution_count": 27
        }
      ]
    },
    {
      "cell_type": "markdown",
      "metadata": {
        "id": "AG3FQEch-yuA"
      },
      "source": [
        "## Part 1 - Data Preprocessing"
      ]
    },
    {
      "cell_type": "markdown",
      "metadata": {
        "id": "-4zq8Mza_D9O"
      },
      "source": [
        "### Importing the dataset"
      ]
    },
    {
      "cell_type": "code",
      "source": [
        "dataset = pd.read_excel('Folds5x2_pp.xlsx')\n",
        "X = dataset.iloc[:, : -1].values\n",
        "y = dataset.iloc[:, -1].values"
      ],
      "metadata": {
        "id": "H7NMg06kGQT7"
      },
      "execution_count": null,
      "outputs": []
    },
    {
      "cell_type": "markdown",
      "metadata": {
        "id": "VC6omXel_Up0"
      },
      "source": [
        "### Splitting the dataset into the Training set and Test set"
      ]
    },
    {
      "cell_type": "code",
      "source": [
        "from sklearn.model_selection import train_test_split\n",
        "X_train, X_test, y_train, y_test = train_test_split(X, y, test_size = 0.2, random_state = 0)"
      ],
      "metadata": {
        "id": "NhhH0uZyIN-j"
      },
      "execution_count": null,
      "outputs": []
    },
    {
      "cell_type": "markdown",
      "metadata": {
        "id": "_mSLlAT9_eyI"
      },
      "source": [
        "## Part 2 - Building the ANN"
      ]
    },
    {
      "cell_type": "markdown",
      "metadata": {
        "id": "CsBULd_f_wLY"
      },
      "source": [
        "### Initializing the ANN"
      ]
    },
    {
      "cell_type": "code",
      "source": [
        "ann = tf.keras.models.Sequential()\n",
        "from tensorflow.keras.layers import Dense"
      ],
      "metadata": {
        "id": "hfueP2bAIv2G"
      },
      "execution_count": null,
      "outputs": []
    },
    {
      "cell_type": "markdown",
      "metadata": {
        "id": "iitAFJS_ABUn"
      },
      "source": [
        "### Adding the input layer and the first hidden layer"
      ]
    },
    {
      "cell_type": "code",
      "source": [
        "ann.add(Dense(units=6, activation = 'relu'))"
      ],
      "metadata": {
        "id": "kp3hdWyJJQ46"
      },
      "execution_count": null,
      "outputs": []
    },
    {
      "cell_type": "markdown",
      "metadata": {
        "id": "-lb4kK_wAKbs"
      },
      "source": [
        "### Adding the second hidden layer"
      ]
    },
    {
      "cell_type": "code",
      "source": [
        "ann.add(Dense(units=6, activation = 'relu'))"
      ],
      "metadata": {
        "id": "iDgo_2EXLnyT"
      },
      "execution_count": null,
      "outputs": []
    },
    {
      "cell_type": "markdown",
      "metadata": {
        "id": "jwMOmKb3AdBY"
      },
      "source": [
        "### Adding the output layer"
      ]
    },
    {
      "cell_type": "code",
      "source": [
        "ann.add(Dense(units=1, activation = 'linear'))"
      ],
      "metadata": {
        "id": "60Y0LX7QMQpl"
      },
      "execution_count": null,
      "outputs": []
    },
    {
      "cell_type": "markdown",
      "metadata": {
        "id": "fq7e4fF6A1yy"
      },
      "source": [
        "## Part 3 - Training the ANN"
      ]
    },
    {
      "cell_type": "markdown",
      "metadata": {
        "id": "qDeylAs2An25"
      },
      "source": [
        "### Compiling the ANN"
      ]
    },
    {
      "cell_type": "code",
      "source": [
        "ann.compile(optimizer='adam', loss='mean_squared_error')"
      ],
      "metadata": {
        "id": "8_44XcIJORVk"
      },
      "execution_count": null,
      "outputs": []
    },
    {
      "cell_type": "markdown",
      "metadata": {
        "id": "YjVuiybYOo7r"
      },
      "source": [
        "### Training the ANN model on the Training set"
      ]
    },
    {
      "cell_type": "code",
      "source": [
        "ann.fit(X_train, y_train, batch_size = 32, epochs = 100)"
      ],
      "metadata": {
        "colab": {
          "base_uri": "https://localhost:8080/"
        },
        "id": "yBZ_sizzQj5H",
        "outputId": "07474e63-c3c1-49e6-9530-4bbdcfad7889"
      },
      "execution_count": null,
      "outputs": [
        {
          "output_type": "stream",
          "name": "stdout",
          "text": [
            "Epoch 1/100\n",
            "240/240 [==============================] - 1s 2ms/step - loss: 506895.7812\n",
            "Epoch 2/100\n",
            "240/240 [==============================] - 1s 2ms/step - loss: 16597.4023\n",
            "Epoch 3/100\n",
            "240/240 [==============================] - 1s 3ms/step - loss: 129.3313\n",
            "Epoch 4/100\n",
            "240/240 [==============================] - 1s 3ms/step - loss: 123.7700\n",
            "Epoch 5/100\n",
            "240/240 [==============================] - 1s 2ms/step - loss: 117.5400\n",
            "Epoch 6/100\n",
            "240/240 [==============================] - 1s 3ms/step - loss: 110.4630\n",
            "Epoch 7/100\n",
            "240/240 [==============================] - 1s 2ms/step - loss: 102.9414\n",
            "Epoch 8/100\n",
            "240/240 [==============================] - 1s 2ms/step - loss: 94.9930\n",
            "Epoch 9/100\n",
            "240/240 [==============================] - 1s 3ms/step - loss: 86.8712\n",
            "Epoch 10/100\n",
            "240/240 [==============================] - 1s 4ms/step - loss: 78.8362\n",
            "Epoch 11/100\n",
            "240/240 [==============================] - 1s 4ms/step - loss: 71.0690\n",
            "Epoch 12/100\n",
            "240/240 [==============================] - 1s 4ms/step - loss: 63.4262\n",
            "Epoch 13/100\n",
            "240/240 [==============================] - 1s 3ms/step - loss: 56.5577\n",
            "Epoch 14/100\n",
            "240/240 [==============================] - 1s 2ms/step - loss: 50.4477\n",
            "Epoch 15/100\n",
            "240/240 [==============================] - 0s 2ms/step - loss: 44.6880\n",
            "Epoch 16/100\n",
            "240/240 [==============================] - 1s 2ms/step - loss: 40.0341\n",
            "Epoch 17/100\n",
            "240/240 [==============================] - 1s 2ms/step - loss: 36.2995\n",
            "Epoch 18/100\n",
            "240/240 [==============================] - 1s 2ms/step - loss: 33.1710\n",
            "Epoch 19/100\n",
            "240/240 [==============================] - 0s 2ms/step - loss: 31.0548\n",
            "Epoch 20/100\n",
            "240/240 [==============================] - 1s 2ms/step - loss: 29.4448\n",
            "Epoch 21/100\n",
            "240/240 [==============================] - 1s 2ms/step - loss: 28.4311\n",
            "Epoch 22/100\n",
            "240/240 [==============================] - 1s 3ms/step - loss: 27.7998\n",
            "Epoch 23/100\n",
            "240/240 [==============================] - 1s 3ms/step - loss: 27.3206\n",
            "Epoch 24/100\n",
            "240/240 [==============================] - 1s 3ms/step - loss: 26.9677\n",
            "Epoch 25/100\n",
            "240/240 [==============================] - 1s 3ms/step - loss: 26.8746\n",
            "Epoch 26/100\n",
            "240/240 [==============================] - 1s 3ms/step - loss: 26.7286\n",
            "Epoch 27/100\n",
            "240/240 [==============================] - 1s 2ms/step - loss: 26.6182\n",
            "Epoch 28/100\n",
            "240/240 [==============================] - 1s 2ms/step - loss: 26.6704\n",
            "Epoch 29/100\n",
            "240/240 [==============================] - 1s 2ms/step - loss: 26.7324\n",
            "Epoch 30/100\n",
            "240/240 [==============================] - 1s 3ms/step - loss: 26.7787\n",
            "Epoch 31/100\n",
            "240/240 [==============================] - 1s 4ms/step - loss: 26.8179\n",
            "Epoch 32/100\n",
            "240/240 [==============================] - 1s 4ms/step - loss: 26.7804\n",
            "Epoch 33/100\n",
            "240/240 [==============================] - 1s 4ms/step - loss: 26.6930\n",
            "Epoch 34/100\n",
            "240/240 [==============================] - 1s 4ms/step - loss: 26.8843\n",
            "Epoch 35/100\n",
            "240/240 [==============================] - 1s 3ms/step - loss: 26.7068\n",
            "Epoch 36/100\n",
            "240/240 [==============================] - 1s 3ms/step - loss: 26.9925\n",
            "Epoch 37/100\n",
            "240/240 [==============================] - 1s 3ms/step - loss: 27.3795\n",
            "Epoch 38/100\n",
            "240/240 [==============================] - 1s 3ms/step - loss: 27.2875\n",
            "Epoch 39/100\n",
            "240/240 [==============================] - 1s 2ms/step - loss: 26.5202\n",
            "Epoch 40/100\n",
            "240/240 [==============================] - 1s 2ms/step - loss: 26.8731\n",
            "Epoch 41/100\n",
            "240/240 [==============================] - 1s 2ms/step - loss: 26.7428\n",
            "Epoch 42/100\n",
            "240/240 [==============================] - 1s 2ms/step - loss: 27.2949\n",
            "Epoch 43/100\n",
            "240/240 [==============================] - 1s 2ms/step - loss: 26.8962\n",
            "Epoch 44/100\n",
            "240/240 [==============================] - 1s 2ms/step - loss: 26.4028\n",
            "Epoch 45/100\n",
            "240/240 [==============================] - 1s 2ms/step - loss: 26.9899\n",
            "Epoch 46/100\n",
            "240/240 [==============================] - 0s 2ms/step - loss: 27.2400\n",
            "Epoch 47/100\n",
            "240/240 [==============================] - 1s 2ms/step - loss: 27.3162\n",
            "Epoch 48/100\n",
            "240/240 [==============================] - 1s 2ms/step - loss: 27.7137\n",
            "Epoch 49/100\n",
            "240/240 [==============================] - 1s 2ms/step - loss: 27.1399\n",
            "Epoch 50/100\n",
            "240/240 [==============================] - 0s 2ms/step - loss: 27.5666\n",
            "Epoch 51/100\n",
            "240/240 [==============================] - 1s 2ms/step - loss: 26.6574\n",
            "Epoch 52/100\n",
            "240/240 [==============================] - 1s 2ms/step - loss: 26.4613\n",
            "Epoch 53/100\n",
            "240/240 [==============================] - 1s 4ms/step - loss: 27.1422\n",
            "Epoch 54/100\n",
            "240/240 [==============================] - 1s 3ms/step - loss: 26.8149\n",
            "Epoch 55/100\n",
            "240/240 [==============================] - 1s 4ms/step - loss: 26.7723\n",
            "Epoch 56/100\n",
            "240/240 [==============================] - 1s 4ms/step - loss: 26.9868\n",
            "Epoch 57/100\n",
            "240/240 [==============================] - 1s 2ms/step - loss: 27.7217\n",
            "Epoch 58/100\n",
            "240/240 [==============================] - 1s 2ms/step - loss: 27.5739\n",
            "Epoch 59/100\n",
            "240/240 [==============================] - 0s 2ms/step - loss: 27.3619\n",
            "Epoch 60/100\n",
            "240/240 [==============================] - 1s 2ms/step - loss: 26.7511\n",
            "Epoch 61/100\n",
            "240/240 [==============================] - 1s 2ms/step - loss: 27.1633\n",
            "Epoch 62/100\n",
            "240/240 [==============================] - 1s 2ms/step - loss: 27.2425\n",
            "Epoch 63/100\n",
            "240/240 [==============================] - 1s 2ms/step - loss: 27.2841\n",
            "Epoch 64/100\n",
            "240/240 [==============================] - 1s 2ms/step - loss: 27.0136\n",
            "Epoch 65/100\n",
            "240/240 [==============================] - 1s 2ms/step - loss: 26.8428\n",
            "Epoch 66/100\n",
            "240/240 [==============================] - 0s 2ms/step - loss: 27.1513\n",
            "Epoch 67/100\n",
            "240/240 [==============================] - 1s 2ms/step - loss: 27.1111\n",
            "Epoch 68/100\n",
            "240/240 [==============================] - 0s 2ms/step - loss: 26.9555\n",
            "Epoch 69/100\n",
            "240/240 [==============================] - 1s 2ms/step - loss: 27.3830\n",
            "Epoch 70/100\n",
            "240/240 [==============================] - 1s 2ms/step - loss: 26.7110\n",
            "Epoch 71/100\n",
            "240/240 [==============================] - 1s 3ms/step - loss: 26.6645\n",
            "Epoch 72/100\n",
            "240/240 [==============================] - 1s 3ms/step - loss: 27.8804\n",
            "Epoch 73/100\n",
            "240/240 [==============================] - 1s 3ms/step - loss: 27.2935\n",
            "Epoch 74/100\n",
            "240/240 [==============================] - 1s 3ms/step - loss: 26.8495\n",
            "Epoch 75/100\n",
            "240/240 [==============================] - 1s 4ms/step - loss: 27.3345\n",
            "Epoch 76/100\n",
            "240/240 [==============================] - 1s 4ms/step - loss: 27.1170\n",
            "Epoch 77/100\n",
            "240/240 [==============================] - 1s 4ms/step - loss: 27.4541\n",
            "Epoch 78/100\n",
            "240/240 [==============================] - 1s 4ms/step - loss: 26.9243\n",
            "Epoch 79/100\n",
            "240/240 [==============================] - 1s 3ms/step - loss: 27.2853\n",
            "Epoch 80/100\n",
            "240/240 [==============================] - 1s 2ms/step - loss: 27.0434\n",
            "Epoch 81/100\n",
            "240/240 [==============================] - 1s 3ms/step - loss: 27.5767\n",
            "Epoch 82/100\n",
            "240/240 [==============================] - 1s 3ms/step - loss: 26.9223\n",
            "Epoch 83/100\n",
            "240/240 [==============================] - 1s 3ms/step - loss: 26.5824\n",
            "Epoch 84/100\n",
            "240/240 [==============================] - 1s 3ms/step - loss: 26.9642\n",
            "Epoch 85/100\n",
            "240/240 [==============================] - 1s 2ms/step - loss: 26.9216\n",
            "Epoch 86/100\n",
            "240/240 [==============================] - 1s 2ms/step - loss: 27.0048\n",
            "Epoch 87/100\n",
            "240/240 [==============================] - 1s 2ms/step - loss: 26.9917\n",
            "Epoch 88/100\n",
            "240/240 [==============================] - 1s 2ms/step - loss: 27.2784\n",
            "Epoch 89/100\n",
            "240/240 [==============================] - 1s 2ms/step - loss: 27.0914\n",
            "Epoch 90/100\n",
            "240/240 [==============================] - 1s 2ms/step - loss: 26.9406\n",
            "Epoch 91/100\n",
            "240/240 [==============================] - 1s 2ms/step - loss: 27.2261\n",
            "Epoch 92/100\n",
            "240/240 [==============================] - 1s 2ms/step - loss: 27.2023\n",
            "Epoch 93/100\n",
            "240/240 [==============================] - 1s 2ms/step - loss: 27.4985\n",
            "Epoch 94/100\n",
            "240/240 [==============================] - 0s 2ms/step - loss: 26.9484\n",
            "Epoch 95/100\n",
            "240/240 [==============================] - 1s 2ms/step - loss: 27.8036\n",
            "Epoch 96/100\n",
            "240/240 [==============================] - 0s 2ms/step - loss: 27.1325\n",
            "Epoch 97/100\n",
            "240/240 [==============================] - 1s 3ms/step - loss: 26.7835\n",
            "Epoch 98/100\n",
            "240/240 [==============================] - 1s 4ms/step - loss: 26.3542\n",
            "Epoch 99/100\n",
            "240/240 [==============================] - 1s 4ms/step - loss: 27.3350\n",
            "Epoch 100/100\n",
            "240/240 [==============================] - 1s 4ms/step - loss: 26.9027\n"
          ]
        },
        {
          "output_type": "execute_result",
          "data": {
            "text/plain": [
              "<keras.src.callbacks.History at 0x7bed76fb2890>"
            ]
          },
          "metadata": {},
          "execution_count": 43
        }
      ]
    },
    {
      "cell_type": "markdown",
      "metadata": {
        "id": "0H0zKKNEBLD5"
      },
      "source": [
        "### Predicting the results of the Test set"
      ]
    },
    {
      "cell_type": "code",
      "source": [
        "y_pred = ann.predict(X_test)\n",
        "np.set_printoptions(precision=2)\n",
        "print(np.concatenate((y_pred.reshape(len(y_pred),1), y_test.reshape(len(y_test),1)),1))"
      ],
      "metadata": {
        "colab": {
          "base_uri": "https://localhost:8080/"
        },
        "id": "OHs3ZSwsQW6r",
        "outputId": "c5a96469-7ef4-4b74-c543-2ce52a7ffb18"
      },
      "execution_count": null,
      "outputs": [
        {
          "output_type": "stream",
          "name": "stdout",
          "text": [
            "60/60 [==============================] - 0s 3ms/step\n",
            "[[431.45 431.23]\n",
            " [462.52 460.01]\n",
            " [466.01 461.14]\n",
            " ...\n",
            " [473.28 473.26]\n",
            " [439.98 438.  ]\n",
            " [459.24 463.28]]\n"
          ]
        }
      ]
    }
  ]
}